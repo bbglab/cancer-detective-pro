{
 "cells": [
  {
   "cell_type": "markdown",
   "id": "9a3c2462",
   "metadata": {},
   "source": [
    "# Reformat samples for the web"
   ]
  },
  {
   "cell_type": "markdown",
   "id": "74d74c03",
   "metadata": {},
   "source": [
    "Create data to replace static content of the web:\n",
    "\n",
    "- gens_js.txt: contains mutations formatted for gens.js\n",
    "- quiz_js.txt: contains variable names for quiz.js\n",
    "- quiz_css.txt: contains gene/mutation display and targeted treatments for drivers (if any)"
   ]
  },
  {
   "cell_type": "code",
   "execution_count": 22,
   "id": "68c5f8c8",
   "metadata": {},
   "outputs": [],
   "source": [
    "import pandas as pd"
   ]
  },
  {
   "cell_type": "markdown",
   "id": "9d44ad2e",
   "metadata": {},
   "source": [
    "### Input and output files "
   ]
  },
  {
   "cell_type": "code",
   "execution_count": 23,
   "id": "97001cdb",
   "metadata": {},
   "outputs": [],
   "source": [
    "skin_input_f = 'skin_db.txt'\n",
    "lung_input_f = 'lung_db.txt'"
   ]
  },
  {
   "cell_type": "code",
   "execution_count": 24,
   "id": "55fc6b76",
   "metadata": {},
   "outputs": [],
   "source": [
    "gens_js_f = 'gens_js.txt'\n",
    "quiz_js_f = 'quiz_js.txt'\n",
    "quiz_css_f = 'quiz_css.txt'"
   ]
  },
  {
   "cell_type": "code",
   "execution_count": 25,
   "id": "e56df5a2",
   "metadata": {},
   "outputs": [
    {
     "data": {
      "text/html": [
       "<div>\n",
       "<style scoped>\n",
       "    .dataframe tbody tr th:only-of-type {\n",
       "        vertical-align: middle;\n",
       "    }\n",
       "\n",
       "    .dataframe tbody tr th {\n",
       "        vertical-align: top;\n",
       "    }\n",
       "\n",
       "    .dataframe thead th {\n",
       "        text-align: right;\n",
       "    }\n",
       "</style>\n",
       "<table border=\"1\" class=\"dataframe\">\n",
       "  <thead>\n",
       "    <tr style=\"text-align: right;\">\n",
       "      <th></th>\n",
       "      <th>cancer_type</th>\n",
       "      <th>sample_type</th>\n",
       "      <th>sample</th>\n",
       "      <th>number_mutations</th>\n",
       "      <th>drivers</th>\n",
       "      <th>treatments</th>\n",
       "      <th>passengers</th>\n",
       "      <th>total</th>\n",
       "    </tr>\n",
       "  </thead>\n",
       "  <tbody>\n",
       "    <tr>\n",
       "      <th>0</th>\n",
       "      <td>a</td>\n",
       "      <td>1a_2a_3a</td>\n",
       "      <td>1a_2a_3a_4a</td>\n",
       "      <td>3</td>\n",
       "      <td>BRAF_V600E</td>\n",
       "      <td>BRAF_V600E:Vemurafenib</td>\n",
       "      <td>APOC3_L7V;OR51L1_P20S</td>\n",
       "      <td>APOC3_L7V;BRAF_V600E;OR51L1_P20S</td>\n",
       "    </tr>\n",
       "    <tr>\n",
       "      <th>1</th>\n",
       "      <td>a</td>\n",
       "      <td>1a_2a_3a</td>\n",
       "      <td>1a_2a_3a_4b</td>\n",
       "      <td>3</td>\n",
       "      <td>BRAF_V600K</td>\n",
       "      <td>BRAF_V600K:Vemurafenib + Cobimetinib</td>\n",
       "      <td>OR13H1_L36H;OR8D2_M145I</td>\n",
       "      <td>BRAF_V600K;OR13H1_L36H;OR8D2_M145I</td>\n",
       "    </tr>\n",
       "  </tbody>\n",
       "</table>\n",
       "</div>"
      ],
      "text/plain": [
       "  cancer_type sample_type       sample  number_mutations     drivers  \\\n",
       "0           a    1a_2a_3a  1a_2a_3a_4a                 3  BRAF_V600E   \n",
       "1           a    1a_2a_3a  1a_2a_3a_4b                 3  BRAF_V600K   \n",
       "\n",
       "                             treatments               passengers  \\\n",
       "0                BRAF_V600E:Vemurafenib    APOC3_L7V;OR51L1_P20S   \n",
       "1  BRAF_V600K:Vemurafenib + Cobimetinib  OR13H1_L36H;OR8D2_M145I   \n",
       "\n",
       "                                total  \n",
       "0    APOC3_L7V;BRAF_V600E;OR51L1_P20S  \n",
       "1  BRAF_V600K;OR13H1_L36H;OR8D2_M145I  "
      ]
     },
     "execution_count": 25,
     "metadata": {},
     "output_type": "execute_result"
    }
   ],
   "source": [
    "# Load mutations\n",
    "skin_df = pd.read_csv(skin_input_f, sep='\\t', header=0)\n",
    "lung_df = pd.read_csv(lung_input_f, sep='\\t', header=0)\n",
    "mutations_df = pd.concat([skin_df, lung_df])\n",
    "mutations_df.head(2)"
   ]
  },
  {
   "cell_type": "code",
   "execution_count": 26,
   "id": "8b941008",
   "metadata": {},
   "outputs": [
    {
     "data": {
      "text/plain": [
       "540"
      ]
     },
     "execution_count": 26,
     "metadata": {},
     "output_type": "execute_result"
    }
   ],
   "source": [
    "len(mutations_df)"
   ]
  },
  {
   "cell_type": "markdown",
   "id": "2444c710",
   "metadata": {},
   "source": [
    "## 1) Gens js"
   ]
  },
  {
   "cell_type": "markdown",
   "id": "f7977e81",
   "metadata": {},
   "source": [
    "We will generate 270 * 2 (540) rows + 2 headers"
   ]
  },
  {
   "cell_type": "raw",
   "id": "3eb2c577",
   "metadata": {},
   "source": [
    "Example\n",
    "\n",
    "var muta_a_1c_2c_3a = '<ul class=\"BRAF G469E\"><li class=\"gen1\"><a href=\"https://www.genecards.org/cgi-bin/carddisp.pl?gene=BRAF\" target=\"_blank\"></a></li><li class=\"gen2\"></li><li class=\"gen3\"></li><li class=\"gen4\"></li></ul><ul class=\"GUCA2A E105K\"><li class=\"gen1\"><a href=\"https://www.genecards.org/cgi-bin/carddisp.pl?gene=GUCA2A\" target=\"_blank\"></a></li><li class=\"gen2\"></li><li class=\"gen3\"></li><li class=\"gen4\"></li></ul><ul class=\"OR5J2 S67L\"><li class=\"gen1\"><a href=\"https://www.genecards.org/cgi-bin/carddisp.pl?gene=OR5J2\" target=\"_blank\"></a></li><li class=\"gen2\"></li><li class=\"gen3\"></li><li class=\"gen4\"></li></ul><ul class=\"C9 G75E\"><li class=\"gen1\"><a href=\"https://www.genecards.org/cgi-bin/carddisp.pl?gene=C9\" target=\"_blank\"></a></li><li class=\"gen2\"></li><li class=\"gen3\"></li><li class=\"gen4\"></li></ul><ul class=\"KIT M722I\"><li class=\"gen1\"><a href=\"https://www.genecards.org/cgi-bin/carddisp.pl?gene=KIT\" target=\"_blank\"></a></li><li class=\"gen2\"></li><li class=\"gen3\"></li><li class=\"gen4\"></li></ul><ul class=\"OR2D2 G16R\"><li class=\"gen1\"><a href=\"https://www.genecards.org/cgi-bin/carddisp.pl?gene=OR2D2\" target=\"_blank\"></a></li><li class=\"gen2\"></li><li class=\"gen3\"></li><li class=\"gen4\"></li></ul><ul class=\"ATM R2526K\"><li class=\"gen1\"><a href=\"https://www.genecards.org/cgi-bin/carddisp.pl?gene=ATM\" target=\"_blank\"></a></li><li class=\"gen2\"></li><li class=\"gen3\"></li><li class=\"gen4\"></li></ul>';\n"
   ]
  },
  {
   "cell_type": "code",
   "execution_count": 27,
   "id": "3d8d02ca",
   "metadata": {},
   "outputs": [],
   "source": [
    "lung_info = False\n",
    "with open(gens_js_f, 'w') as ofd: \n",
    "    ofd.write('/* //// Type A (pell) //// */\\n')\n",
    "    for _, row in mutations_df.iterrows(): \n",
    "\n",
    "        # Get data\n",
    "        ctype = row['cancer_type']\n",
    "        sample = row['sample']\n",
    "        genes_muts = row['total'].split(';')\n",
    "        \n",
    "        # Write lung header if needed\n",
    "        if ctype == 'b' and not lung_info: \n",
    "            ofd.write('/* //// Type B (pulmo) //// */\\n')\n",
    "            lung_info = True\n",
    "        \n",
    "        # Reformat\n",
    "        data = f'var muta_{ctype}_{sample} = \\''\n",
    "        for gene_mut in genes_muts:\n",
    "            gene, mut = gene_mut.split('_')\n",
    "            data += f'<ul class=\"{gene} {mut}\"><li class=\"gen1\"><a href=\"https://www.genecards.org/cgi-bin/carddisp.pl?gene={gene}\" target=\"_blank\"></a></li><li class=\"gen2\"></li><li class=\"gen3\"></li><li class=\"gen4\"></li></ul>'    \n",
    "        data += \"';\"\n",
    "        ofd.write(f'{data}\\n')"
   ]
  },
  {
   "cell_type": "markdown",
   "id": "d40685a0",
   "metadata": {},
   "source": [
    "## 2) Quiz js"
   ]
  },
  {
   "cell_type": "raw",
   "id": "58c7db59",
   "metadata": {},
   "source": [
    "Example \n",
    "\n",
    "var typeA01 = document.getElementById( 'gen-a-1a-2a-3a-4a' ); if(typeA01) { typeA01.innerHTML += muta_a_1a_2a_3a_4a; }\n"
   ]
  },
  {
   "cell_type": "code",
   "execution_count": 28,
   "id": "0b266932",
   "metadata": {},
   "outputs": [
    {
     "name": "stdout",
     "output_type": "stream",
     "text": [
      "var typeB270 = document.getElementById( 'gen-b-1c-2c-3c-4j' ); if(typeA01) { typeB270.innerHTML += muta_b_1c_2c_3c_4j; }\n"
     ]
    }
   ],
   "source": [
    "lung_info = False\n",
    "with open(quiz_js_f, 'w') as ofd: \n",
    "    ofd.write(f'//skin\\n')\n",
    "    for i, row in mutations_df.iterrows(): \n",
    "        i += 1\n",
    "        \n",
    "        # Get data\n",
    "        ctype = row['cancer_type']\n",
    "        sample = row['sample'].split('_')\n",
    "        ctype_sample_1 = 'gen-' + '-'.join(list(ctype) + sample)\n",
    "        ctype_sample_2 = 'muta_' + '_'.join(list(ctype) + sample)\n",
    "        \n",
    "        # Write lung header if needed\n",
    "        if ctype == 'b' and not lung_info: \n",
    "            ofd.write(f'//lung\\n')\n",
    "            lung_info = True\n",
    "        \n",
    "        # Reformat\n",
    "        var_id = f'{i:03d}'\n",
    "        var_type = f'type{ctype.upper()}{var_id}'\n",
    "        data1 = f'var {var_type} = document.getElementById( \\'{ctype_sample_1}\\' ); if(typeA01) '\n",
    "        data2 = f'{var_type}.innerHTML += {ctype_sample_2};'\n",
    "        data = data1 + '{ ' + data2 + ' }'\n",
    "        \n",
    "        ofd.write(f'{data}\\n')\n",
    "print(data)       "
   ]
  },
  {
   "cell_type": "markdown",
   "id": "feb15732",
   "metadata": {},
   "source": [
    "## 3) Quiz css"
   ]
  },
  {
   "cell_type": "code",
   "execution_count": 29,
   "id": "9b43841e",
   "metadata": {},
   "outputs": [
    {
     "name": "stdout",
     "output_type": "stream",
     "text": [
      "213\n"
     ]
    },
    {
     "data": {
      "text/plain": [
       "['ACTRT1_D84N',\n",
       " 'ADAM30_R503K',\n",
       " 'AHSG_P358L',\n",
       " 'AMELX_L6I',\n",
       " 'APOC3_L7V',\n",
       " 'AQP2_A190T',\n",
       " 'ARR3_V155I',\n",
       " 'ATOH1_G339R',\n",
       " 'BRAF_V600E',\n",
       " 'BRAF_V600K']"
      ]
     },
     "execution_count": 29,
     "metadata": {},
     "output_type": "execute_result"
    }
   ],
   "source": [
    "unique_muts_total = set()\n",
    "for mut_str in mutations_df['total'].tolist(): \n",
    "    for mut in mut_str.split(';'): \n",
    "        unique_muts_total.add(mut)\n",
    "unique_muts_total = list(sorted(unique_muts_total))\n",
    "print(len(unique_muts_total))\n",
    "unique_muts_total[:10]"
   ]
  },
  {
   "cell_type": "code",
   "execution_count": 30,
   "id": "7d81932f",
   "metadata": {},
   "outputs": [
    {
     "name": "stdout",
     "output_type": "stream",
     "text": [
      "20\n"
     ]
    },
    {
     "data": {
      "text/plain": [
       "['BRAF_V600E',\n",
       " 'BRAF_V600K',\n",
       " 'CDKN2A_P81L',\n",
       " 'EGFR_L858R',\n",
       " 'EGFR_L861Q',\n",
       " 'HRAS_G12V',\n",
       " 'KEAP1_C23Y',\n",
       " 'KEAP1_V155F',\n",
       " 'KRAS_G12C',\n",
       " 'KRAS_G12D']"
      ]
     },
     "execution_count": 30,
     "metadata": {},
     "output_type": "execute_result"
    }
   ],
   "source": [
    "unique_muts_drivers = set()\n",
    "for mut_str in mutations_df['drivers'].tolist(): \n",
    "    for mut in mut_str.split(';'): \n",
    "        unique_muts_drivers.add(mut)\n",
    "unique_muts_drivers = list(sorted(unique_muts_drivers))\n",
    "print(len(unique_muts_drivers))\n",
    "unique_muts_drivers[:10]"
   ]
  },
  {
   "cell_type": "code",
   "execution_count": 31,
   "id": "97eb09d3",
   "metadata": {},
   "outputs": [
    {
     "name": "stdout",
     "output_type": "stream",
     "text": [
      "BRAF:V600E\n",
      "BRAF:V600K\n",
      "CDKN2A:P81L\n",
      "EGFR:L858R\n",
      "EGFR:L861Q\n",
      "HRAS:G12V\n",
      "KEAP1:C23Y\n",
      "KEAP1:V155F\n",
      "KRAS:G12C\n",
      "KRAS:G12D\n",
      "NF1:R1276P\n",
      "NFE2L2:G31R\n",
      "NRAS:Q61H\n",
      "NRAS:Q61K\n",
      "PTEN:D162G\n",
      "TP53:L145R\n",
      "TP53:P151S\n",
      "TP53:R248G\n",
      "TP53:R273H\n",
      "TP53:Y220C\n"
     ]
    }
   ],
   "source": [
    "for i in unique_muts_drivers: \n",
    "    print(i.split('_')[0] + ':' + i.split('_')[1])"
   ]
  },
  {
   "cell_type": "code",
   "execution_count": 32,
   "id": "2d9017a6",
   "metadata": {},
   "outputs": [
    {
     "name": "stdout",
     "output_type": "stream",
     "text": [
      "193\n"
     ]
    },
    {
     "data": {
      "text/plain": [
       "['ACTRT1_D84N',\n",
       " 'ADAM30_R503K',\n",
       " 'AHSG_P358L',\n",
       " 'AMELX_L6I',\n",
       " 'APOC3_L7V',\n",
       " 'AQP2_A190T',\n",
       " 'ARR3_V155I',\n",
       " 'ATOH1_G339R',\n",
       " 'BRS3_Y54N',\n",
       " 'C10orf120_R326L']"
      ]
     },
     "execution_count": 32,
     "metadata": {},
     "output_type": "execute_result"
    }
   ],
   "source": [
    "unique_muts_passengers = set()\n",
    "for mut_str in mutations_df['passengers'].tolist(): \n",
    "    for mut in mut_str.split(';'): \n",
    "        unique_muts_passengers.add(mut)\n",
    "unique_muts_passengers = list(sorted(unique_muts_passengers))\n",
    "print(len(unique_muts_passengers))\n",
    "unique_muts_passengers[:10]"
   ]
  },
  {
   "cell_type": "code",
   "execution_count": 33,
   "id": "d1df59ab",
   "metadata": {},
   "outputs": [
    {
     "data": {
      "text/html": [
       "<div>\n",
       "<style scoped>\n",
       "    .dataframe tbody tr th:only-of-type {\n",
       "        vertical-align: middle;\n",
       "    }\n",
       "\n",
       "    .dataframe tbody tr th {\n",
       "        vertical-align: top;\n",
       "    }\n",
       "\n",
       "    .dataframe thead th {\n",
       "        text-align: right;\n",
       "    }\n",
       "</style>\n",
       "<table border=\"1\" class=\"dataframe\">\n",
       "  <thead>\n",
       "    <tr style=\"text-align: right;\">\n",
       "      <th></th>\n",
       "      <th>cancer_type</th>\n",
       "      <th>sample_type</th>\n",
       "      <th>sample</th>\n",
       "      <th>number_mutations</th>\n",
       "      <th>drivers</th>\n",
       "      <th>treatments</th>\n",
       "      <th>passengers</th>\n",
       "      <th>total</th>\n",
       "    </tr>\n",
       "  </thead>\n",
       "  <tbody>\n",
       "    <tr>\n",
       "      <th>0</th>\n",
       "      <td>a</td>\n",
       "      <td>1a_2a_3a</td>\n",
       "      <td>1a_2a_3a_4a</td>\n",
       "      <td>3</td>\n",
       "      <td>BRAF_V600E</td>\n",
       "      <td>BRAF_V600E:Vemurafenib</td>\n",
       "      <td>APOC3_L7V;OR51L1_P20S</td>\n",
       "      <td>APOC3_L7V;BRAF_V600E;OR51L1_P20S</td>\n",
       "    </tr>\n",
       "    <tr>\n",
       "      <th>1</th>\n",
       "      <td>a</td>\n",
       "      <td>1a_2a_3a</td>\n",
       "      <td>1a_2a_3a_4b</td>\n",
       "      <td>3</td>\n",
       "      <td>BRAF_V600K</td>\n",
       "      <td>BRAF_V600K:Vemurafenib + Cobimetinib</td>\n",
       "      <td>OR13H1_L36H;OR8D2_M145I</td>\n",
       "      <td>BRAF_V600K;OR13H1_L36H;OR8D2_M145I</td>\n",
       "    </tr>\n",
       "    <tr>\n",
       "      <th>2</th>\n",
       "      <td>a</td>\n",
       "      <td>1a_2a_3a</td>\n",
       "      <td>1a_2a_3a_4c</td>\n",
       "      <td>3</td>\n",
       "      <td>BRAF_V600E;NF1_R1276P;TP53_R248G</td>\n",
       "      <td>BRAF_V600E:Vemurafenib</td>\n",
       "      <td>GAST_D41N</td>\n",
       "      <td>BRAF_V600E;GAST_D41N;NF1_R1276P;TP53_R248G</td>\n",
       "    </tr>\n",
       "    <tr>\n",
       "      <th>3</th>\n",
       "      <td>a</td>\n",
       "      <td>1a_2a_3a</td>\n",
       "      <td>1a_2a_3a_4d</td>\n",
       "      <td>3</td>\n",
       "      <td>BRAF_V600E;CDKN2A_P81L</td>\n",
       "      <td>BRAF_V600E:Vemurafenib</td>\n",
       "      <td>SPZ1_E62K</td>\n",
       "      <td>BRAF_V600E;CDKN2A_P81L;SPZ1_E62K</td>\n",
       "    </tr>\n",
       "    <tr>\n",
       "      <th>4</th>\n",
       "      <td>a</td>\n",
       "      <td>1a_2a_3a</td>\n",
       "      <td>1a_2a_3a_4e</td>\n",
       "      <td>3</td>\n",
       "      <td>BRAF_V600E;NF1_R1276P</td>\n",
       "      <td>BRAF_V600E:Vemurafenib</td>\n",
       "      <td>OR5J2_S67L</td>\n",
       "      <td>BRAF_V600E;NF1_R1276P;OR5J2_S67L</td>\n",
       "    </tr>\n",
       "  </tbody>\n",
       "</table>\n",
       "</div>"
      ],
      "text/plain": [
       "  cancer_type sample_type       sample  number_mutations  \\\n",
       "0           a    1a_2a_3a  1a_2a_3a_4a                 3   \n",
       "1           a    1a_2a_3a  1a_2a_3a_4b                 3   \n",
       "2           a    1a_2a_3a  1a_2a_3a_4c                 3   \n",
       "3           a    1a_2a_3a  1a_2a_3a_4d                 3   \n",
       "4           a    1a_2a_3a  1a_2a_3a_4e                 3   \n",
       "\n",
       "                            drivers                            treatments  \\\n",
       "0                        BRAF_V600E                BRAF_V600E:Vemurafenib   \n",
       "1                        BRAF_V600K  BRAF_V600K:Vemurafenib + Cobimetinib   \n",
       "2  BRAF_V600E;NF1_R1276P;TP53_R248G                BRAF_V600E:Vemurafenib   \n",
       "3            BRAF_V600E;CDKN2A_P81L                BRAF_V600E:Vemurafenib   \n",
       "4             BRAF_V600E;NF1_R1276P                BRAF_V600E:Vemurafenib   \n",
       "\n",
       "                passengers                                       total  \n",
       "0    APOC3_L7V;OR51L1_P20S            APOC3_L7V;BRAF_V600E;OR51L1_P20S  \n",
       "1  OR13H1_L36H;OR8D2_M145I          BRAF_V600K;OR13H1_L36H;OR8D2_M145I  \n",
       "2                GAST_D41N  BRAF_V600E;GAST_D41N;NF1_R1276P;TP53_R248G  \n",
       "3                SPZ1_E62K            BRAF_V600E;CDKN2A_P81L;SPZ1_E62K  \n",
       "4               OR5J2_S67L            BRAF_V600E;NF1_R1276P;OR5J2_S67L  "
      ]
     },
     "execution_count": 33,
     "metadata": {},
     "output_type": "execute_result"
    }
   ],
   "source": [
    "mutations_df.head()"
   ]
  },
  {
   "cell_type": "code",
   "execution_count": 34,
   "id": "1e5b8d80",
   "metadata": {},
   "outputs": [
    {
     "data": {
      "text/plain": [
       "{'BRAF_V600E': 'Vemurafenib',\n",
       " 'BRAF_V600K': 'Vemurafenib + Cobimetinib',\n",
       " 'EGFR_L858R': 'Erlotinib',\n",
       " 'EGFR_L861Q': 'Erlotinib'}"
      ]
     },
     "execution_count": 34,
     "metadata": {},
     "output_type": "execute_result"
    }
   ],
   "source": [
    "genes_with_treatments = dict(list([(i.split(':')[0], i.split(':')[1]) for i in mutations_df['treatments'] if type(i) == str]))\n",
    "genes_with_treatments"
   ]
  },
  {
   "cell_type": "raw",
   "id": "09e76c94",
   "metadata": {},
   "source": [
    "/* Gen 1 i 2 */\n",
    ".NRAS.G12V .gen1 a:after { content:\"NRAS\"; } .NRAS.G12V .gen2.active:after { content:\"G12V\"; } .ATM.R2526K .gen1 a:after { content:\"ATM\"; } .ATM.R2526K .gen2.active:after { content:\"R2526K\"; } .ATOH1.G339R .gen1 a:after { content:\"ATOH1\"; } .ATOH1.G339R .gen2.active:after { content:\"G339R\"; } .BRAF.G466A .gen1 a:after { content:\"BRAF\"; } .BRAF.G466A .gen2.active:after { content:\"G466A\"; } .BRAF.G469E .gen1 a:after { content:\"BRAF\"; } .BRAF.G469E .gen2.active:after { content:\"G469E\"; } .BRAF.G466V .gen1 a:after { content:\"BRAF\"; } .BRAF.G466V .gen2.active:after { content:\"G466V\"; } .BRAF.V600E .gen1 a:after { content:\"BRAF\"; } .BRAF.V600E .gen2.active:after { content:\"V600E\"; } .BRAF.V600G .gen1 a:after { content:\"BRAF\"; } .BRAF.V600G .gen2.active:after { content:\"V600G\"; } .BRD4.P597L .gen1 a:after { content:\"BRD4\"; } .BRD4.P597L .gen2.active:after { content:\"P597L\"; } .C9.G75E .gen1 a:after { content:\"C9\"; } .C9.G75E .gen2.active:after { content:\"G75E\"; } .CCDC70.E48K .gen1 a:after { content:\"CCDC70\"; } .CCDC70.E48K .gen2.active:after { content:\"E48K\"; } .CDH11.R50S .gen1 a:after { content:\"CDH11\"; } .CDH11.R50S .gen2.active:after { content:\"R50S\"; } .CETN1.Q31K .gen1 a:after { content:\"CETN1\"; } .CETN1.Q31K .gen2.active:after { content:\"Q31K\"; } .CSH1.V153M .gen1 a:after { content:\"CSH1\"; } .CSH1.V153M .gen2.active:after { content:\"V153M\"; } .EGFR.G857V .gen1 a:after { content:\"EGFR\"; } .EGFR.G857V .gen2.active:after { content:\"G857V\"; } .EGFR.L858R .gen1 a:after { content:\"EGFR\"; } .EGFR.L858R .gen2.active:after { content:\"L858R\"; } .EGFR.L861Q .gen1 a:after { content:\"EGFR\"; } .EGFR.L861Q .gen2.active:after { content:\"L861Q\"; } .EGFR.S768I .gen1 a:after { content:\"EGFR\"; } .EGFR.S768I .gen2.active:after { content:\"S768I\"; } .EGFR.T790M .gen1 a:after { content:\"EGFR\"; } .EGFR.T790M .gen2.active:after { content:\"T790M\"; } .F9.M8T .gen1 a:after { content:\"F9\"; } .F9.M8T .gen2.active:after { content:\"M8T\"; } .FAM135B.G483V .gen1 a:after { content:\"FAM135B\"; } .FAM135B.G483V .gen2.active:after { content:\"G483V\"; } .GRIN2A.G751E .gen1 a:after { content:\"GRIN2A\"; } .GRIN2A.G751E .gen2.active:after { content:\"G751E\"; } .GRIN2A.P415L .gen1 a:after { content:\"GRIN2A\"; } .GRIN2A.P415L .gen2.active:after { content:\"P415L\"; } .GSTA2.K141R .gen1 a:after { content:\"GSTA2\"; } .GSTA2.K141R .gen2.active:after { content:\"K141R\"; } .GUCA2A.E105K .gen1 a:after { content:\"GUCA2A\"; } .GUCA2A.E105K .gen2.active:after { content:\"E105K\"; } .INSL4.E60K .gen1 a:after { content:\"INSL4\"; } .INSL4.E60K .gen2.active:after { content:\"E60K\"; } .KIT.M722I .gen1 a:after { content:\"KIT\"; } .KIT.M722I .gen2.active:after { content:\"M722I\"; } .KRAS.G12R .gen1 a:after { content:\"KRAS\"; } .KRAS.G12R .gen2.active:after { content:\"G12R\"; } .KRT28.P251L .gen1 a:after { content:\"KRT28\"; } .KRT28.P251L .gen2.active:after { content:\"P251L\"; } .KRTAP12-2.T4A .gen1 a:after { content:\"KRTAP12-2\"; } .KRTAP12-2.T4A .gen2.active:after { content:\"T4A\"; } .KRTAP22-1.G16R .gen1 a:after { content:\"KRTAP22-1\"; } .KRTAP22-1.G16R .gen2.active:after { content:\"G16R\"; } .LCN1.D90E .gen1 a:after { content:\"LCN1\"; } .LCN1.D90E .gen2.active:after { content:\"D90E\"; } .MAGEB10.G209C .gen1 a:after { content:\"MAGEB10\"; } .MAGEB10.G209C .gen2.active:after { content:\"G209C\"; } .MS4A5.S22F .gen1 a:after { content:\"MS4A5\"; } .MS4A5.S22F .gen2.active:after { content:\"S22F\"; } .NDST4.I98V .gen1 a:after { content:\"NDST4\"; } .NDST4.I98V .gen2.active:after { content:\"I98V\"; } .OR10A5.P211S .gen1 a:after { content:\"OR10A5\"; } .OR10A5.P211S .gen2.active:after { content:\"P211S\"; } .OR10K1.H251Y .gen1 a:after { content:\"OR10K1\"; } .OR10K1.H251Y .gen2.active:after { content:\"H251Y\"; } .OR12D3.G27E .gen1 a:after { content:\"OR12D3\"; } .OR12D3.G27E .gen2.active:after { content:\"G27E\"; } .OR13G1.M161I .gen1 a:after { content:\"OR13G1\"; } .OR13G1.M161I .gen2.active:after { content:\"M161I\"; } .OR13J1.Y123S .gen1 a:after { content:\"OR13J1\"; } .OR13J1.Y123S .gen2.active:after { content:\"Y123S\"; } .OR1G1.G3E .gen1 a:after { content:\"OR1G1\"; } .OR1G1.G3E .gen2.active:after { content:\"G3E\"; } .OR1L6.P22S .gen1 a:after { content:\"OR1L6\"; } .OR1L6.P22S .gen2.active:after { content:\"P22S\"; } .OR2AE1.R228L .gen1 a:after { content:\"OR2AE1\"; } .OR2AE1.R228L .gen2.active:after { content:\"R228L\"; } .OR2D2.G16R .gen1 a:after { content:\"OR2D2\"; } .OR2D2.G16R .gen2.active:after { content:\"G16R\"; } .OR2M5.M206I .gen1 a:after { content:\"OR2M5\"; } .OR2M5.M206I .gen2.active:after { content:\"M206I\"; } .OR2W1.M25I .gen1 a:after { content:\"OR2W1\"; } .OR2W1.M25I .gen2.active:after { content:\"M25I\"; } .OR4C46.A101V .gen1 a:after { content:\"OR4C46\"; } .OR4C46.A101V .gen2.active:after { content:\"A101V\"; } .OR4D6.S67L .gen1 a:after { content:\"OR4D6\"; } .OR4D6.S67L .gen2.active:after { content:\"S67L\"; } .OR4K13.C97S .gen1 a:after { content:\"OR4K13\"; } .OR4K13.C97S .gen2.active:after { content:\"C97S\"; } .OR4K15.S234F .gen1 a:after { content:\"OR4K15\"; } .OR4K15.S234F .gen2.active:after { content:\"S234F\"; } .OR4K17.L45F .gen1 a:after { content:\"OR4K17\"; } .OR4K17.L45F .gen2.active:after { content:\"L45F\"; } .OR52B6.S236F .gen1 a:after { content:\"OR52B6\"; } .OR52B6.S236F .gen2.active:after { content:\"S236F\"; } .OR56B1.E120D .gen1 a:after { content:\"OR56B1\"; } .OR56B1.E120D .gen2.active:after { content:\"E120D\"; } .OR5AP2.L149F .gen1 a:after { content:\"OR5AP2\"; } .OR5AP2.L149F .gen2.active:after { content:\"L149F\"; } .OR5J2.S67L .gen1 a:after { content:\"OR5J2\"; } .OR5J2.S67L .gen2.active:after { content:\"S67L\"; } .OR5M8.Y131F .gen1 a:after { content:\"OR5M8\"; } .OR5M8.Y131F .gen2.active:after { content:\"Y131F\"; } .OR6C6.S227Y .gen1 a:after { content:\"OR6C6\"; } .OR6C6.S227Y .gen2.active:after { content:\"S227Y\"; } .OR6K3.P129T .gen1 a:after { content:\"OR6K3\"; } .OR6K3.P129T .gen2.active:after { content:\"P129T\"; } .OR8B8.P129S .gen1 a:after { content:\"OR8B8\"; } .OR8B8.P129S .gen2.active:after { content:\"P129S\"; } .OR8D2.M145I .gen1 a:after { content:\"OR8D2\"; } .OR8D2.M145I .gen2.active:after { content:\"M145I\"; } .OR8H3.T8K .gen1 a:after { content:\"OR8H3\"; } .OR8H3.T8K .gen2.active:after { content:\"T8K\"; } .OR9Q1.G190V .gen1 a:after { content:\"OR9Q1\"; } .OR9Q1.G190V .gen2.active:after { content:\"G190V\"; } .PIK3CA.D390N .gen1 a:after { content:\"PIK3CA\"; } .PIK3CA.D390N .gen2.active:after { content:\"D390N\"; } .PIK3CA.E545K .gen1 a:after { content:\"PIK3CA\"; } .PIK3CA.E545K .gen2.active:after { content:\"E545K\"; } .PIK3R1.N564D .gen1 a:after { content:\"PIK3R1\"; } .PIK3R1.N564D .gen2.active:after { content:\"N564D\"; } .RNF213.S2211F .gen1 a:after { content:\"RNF213\"; } .RNF213.S2211F .gen2.active:after { content:\"S2211F\"; } .SMARCA4.G1232S .gen1 a:after { content:\"SMARCA4\"; } .SMARCA4.G1232S .gen2.active:after { content:\"G1232S\"; } .TAAR5.P211H .gen1 a:after { content:\"TAAR5\"; } .TAAR5.P211H .gen2.active:after { content:\"P211H\"; } .TFAP2D.P313S .gen1 a:after { content:\"TFAP2D\"; } .TFAP2D.P313S .gen2.active:after { content:\"P313S\"; } .TP53.G244S .gen1 a:after { content:\"TP53\"; } .TP53.G244S .gen2.active:after { content:\"G244S\"; } .TP53.H214R .gen1 a:after { content:\"TP53\"; } .TP53.H214R .gen2.active:after { content:\"H214R\"; } .UGT2B11.L187V .gen1 a:after { content:\"UGT2B11\"; } .UGT2B11.L187V .gen2.active:after { content:\"L187V\"; }\n",
    "\n",
    "/* Gen 3 */\n",
    ".ATM.R2526K .gen3.active:after, .BRAF.G466A .gen3.active:after, .BRAF.G469E .gen3.active:after, .NRAS.G12V .gen3.active:after, .BRAF.V600E .gen3.active:after, .BRAF.V600G .gen3.active:after, .BRD4.P597L .gen3.active:after, .CDH11.R50S .gen3.active:after, .EGFR.G857V .gen3.active:after, .EGFR.L858R .gen3.active:after, .EGFR.L861Q .gen3.active:after, .EGFR.S768I .gen3.active:after, .EGFR.T790M .gen3.active:after, .FAM135B.G483V .gen3.active:after, .GRIN2A.G751E .gen3.active:after, .GRIN2A.P415L .gen3.active:after, .KIT.M722I .gen3.active:after, .KRAS.G12R .gen3.active:after, .PIK3CA.D390N .gen3.active:after, .PIK3CA.E545K .gen3.active:after, .PIK3R1.N564D .gen3.active:after, .RNF213.S2211F .gen3.active:after, .SMARCA4.G1232S .gen3.active:after, .TP53.G244S .gen3.active:after, .TP53.H214R .gen3.active:after { content:\"Impulsora\"; color:var(--red); }\n",
    ".ATOH1.G339R .gen3.active:after, .C9.G75E .gen3.active:after, .CCDC70.E48K .gen3.active:after, .CETN1.Q31K .gen3.active:after, .CSH1.V153M .gen3.active:after, .F9.M8T .gen3.active:after, .GSTA2.K141R .gen3.active:after, .GUCA2A.E105K .gen3.active:after, .INSL4.E60K .gen3.active:after, .KRT28.P251L .gen3.active:after, .KRTAP12-2.T4A .gen3.active:after, .KRTAP22-1.G16R .gen3.active:after, .LCN1.D90E .gen3.active:after, .MAGEB10.G209C .gen3.active:after, .MS4A5.S22F .gen3.active:after, .NDST4.I98V .gen3.active:after, .OR10A5.P211S .gen3.active:after, .OR10K1.H251Y .gen3.active:after, .OR12D3.G27E .gen3.active:after, .OR13G1.M161I .gen3.active:after, .OR13J1.Y123S .gen3.active:after, .OR1G1.G3E .gen3.active:after, .OR1L6.P22S .gen3.active:after, .OR2AE1.R228L .gen3.active:after, .OR2D2.G16R .gen3.active:after, .OR2M5.M206I .gen3.active:after, .OR2W1.M25I .gen3.active:after, .OR4C46.A101V .gen3.active:after, .OR4D6.S67L .gen3.active:after, .OR4K13.C97S .gen3.active:after, .OR4K15.S234F .gen3.active:after, .OR4K17.L45F .gen3.active:after, .OR52B6.S236F .gen3.active:after, .OR56B1.E120D .gen3.active:after, .OR5AP2.L149F .gen3.active:after, .OR5J2.S67L .gen3.active:after, .OR5M8.Y131F .gen3.active:after, .OR6C6.S227Y .gen3.active:after, .OR6K3.P129T .gen3.active:after, .OR8B8.P129S .gen3.active:after, .OR8D2.M145I .gen3.active:after, .OR8H3.T8K .gen3.active:after, .OR9Q1.G190V .gen3.active:after, .TAAR5.P211H .gen3.active:after, .TFAP2D.P313S .gen3.active:after, .UGT2B11.L187V .gen3.active:after { content:\"No impulsora\"; }\n",
    "\n",
    "/* Gen 4 no */\n",
    ".ATM.R2526K .gen4.active:after, .ATOH1.G339R .gen4.active:after, .BRAF.G466A .gen4.active:after, .BRD4.P597L .gen4.active:after, .C9.G75E .gen4.active:after, .CCDC70.E48K .gen4.active:after, .CDH11.R50S .gen4.active:after, .CETN1.Q31K .gen4.active:after, .CSH1.V153M .gen4.active:after, .EGFR.G857V .gen4.active:after, .F9.M8T .gen4.active:after, .FAM135B.G483V .gen4.active:after, .GRIN2A.G751E .gen4.active:after, .GRIN2A.P415L .gen4.active:after, .GSTA2.K141R .gen4.active:after, .GUCA2A.E105K .gen4.active:after, .INSL4.E60K .gen4.active:after, .KIT.M722I .gen4.active:after, .KRAS.G12R .gen4.active:after, .KRT28.P251L .gen4.active:after, .KRTAP12-2.T4A .gen4.active:after, .KRTAP22-1.G16R .gen4.active:after, .LCN1.D90E .gen4.active:after, .MAGEB10.G209C .gen4.active:after, .MS4A5.S22F .gen4.active:after, .NDST4.I98V .gen4.active:after, .OR10A5.P211S .gen4.active:after, .OR10K1.H251Y .gen4.active:after, .OR12D3.G27E .gen4.active:after, .OR13G1.M161I .gen4.active:after, .OR13J1.Y123S .gen4.active:after, .OR1G1.G3E .gen4.active:after, .OR1L6.P22S .gen4.active:after, .OR2AE1.R228L .gen4.active:after, .OR2D2.G16R .gen4.active:after, .OR2M5.M206I .gen4.active:after, .OR2W1.M25I .gen4.active:after, .OR4C46.A101V .gen4.active:after, .OR4D6.S67L .gen4.active:after, .OR4K13.C97S .gen4.active:after, .OR4K15.S234F .gen4.active:after, .OR4K17.L45F .gen4.active:after, .OR52B6.S236F .gen4.active:after, .OR56B1.E120D .gen4.active:after, .OR5AP2.L149F .gen4.active:after, .OR5J2.S67L .gen4.active:after, .OR5M8.Y131F .gen4.active:after, .OR6C6.S227Y .gen4.active:after, .OR6K3.P129T .gen4.active:after, .OR8B8.P129S .gen4.active:after, .OR8D2.M145I .gen4.active:after, .OR8H3.T8K .gen4.active:after, .OR9Q1.G190V .gen4.active:after, .PIK3CA.D390N .gen4.active:after, .PIK3CA.E545K .gen4.active:after, .PIK3R1.N564D .gen4.active:after, .RNF213.S2211F .gen4.active:after, .SMARCA4.G1232S .gen4.active:after, .TAAR5.P211H .gen4.active:after, .TFAP2D.P313S .gen4.active:after, .TP53.G244S .gen4.active:after, .TP53.H214R .gen4.active:after, .UGT2B11.L187V .gen4.active:after { content:\"Cap\"; display:inline-block; background:url(\"../grafs/gral/supr.svg\") no-repeat left center; background-size:20px; padding-left:25px; line-height:30px; color:var(--red); color:rgba(255,255,255,.4); }\n",
    "\n",
    "/* Gen 4 sí */\n",
    ".NRAS.G12V .gen4.active:after { content:\"Testing\"; }\n",
    ".BRAF.G469E .gen4.active:after { content:\"Sorafenib\"; }\n",
    ".BRAF.G466V .gen4.active:after { content:\"Dasatinib\"; }\n",
    ".gen-type-a .BRAF.V600E .gen4.active:after { content:\"Dabrafenib;Trametinib\"; } /* Type A */\n",
    ".gen-type-b .BRAF.V600E .gen4.active:after { content:\"Dabrafenib\"; } /* Type B */\n",
    ".BRAF.V600G .gen4.active:after { content:\"Vemurafenib\"; }\n",
    ".EGFR.L858R .gen4.active:after { content:\"Erlotinib\"; }\n",
    ".EGFR.L861Q .gen4.active:after { content:\"Afatinib\"; }\n",
    ".EGFR.S768I .gen4.active:after { content:\"Afatinib\"; }\n",
    ".EGFR.T790M .gen4.active:after { content:\"Rociletinib,HM61713\"; }"
   ]
  },
  {
   "cell_type": "code",
   "execution_count": 19,
   "id": "c8f2a5f8",
   "metadata": {},
   "outputs": [
    {
     "data": {
      "text/plain": [
       "213"
      ]
     },
     "execution_count": 19,
     "metadata": {},
     "output_type": "execute_result"
    }
   ],
   "source": [
    "len(unique_muts_total)"
   ]
  },
  {
   "cell_type": "code",
   "execution_count": 36,
   "id": "7e74bdcc",
   "metadata": {},
   "outputs": [],
   "source": [
    "with open(quiz_css_f, 'w') as ofd: \n",
    "    \n",
    "    ofd.write('/* Gen 1 i 2 */\\n\\n')\n",
    "    string_1 = ''\n",
    "    for gene_mut in unique_muts_total: \n",
    "        gene, mut = gene_mut.split('_')\n",
    "        data1 = f'.{gene}.{mut} .gen1 a:after '\n",
    "        data2 = f'content:\"{gene}\";'\n",
    "        data3 = f' .{gene}.{mut} .gen2.active:after '\n",
    "        data4 = f'content:\"{mut}\";'\n",
    "        data = data1 + '{ ' + data2 + ' }' + data3 + '{ ' + data4 + ' }'\n",
    "        string_1 += data\n",
    "    ofd.write(string_1)\n",
    "    \n",
    "    ofd.write('\\n\\n/* Gen 3*/\\n\\n')\n",
    "    string_3a = ''\n",
    "    for gene_mut in unique_muts_drivers: \n",
    "        gene, mut = gene_mut.split('_')\n",
    "        string_3a += f'.{gene}.{mut} .gen3.active:after, '\n",
    "    string_3a += '{ content:\"Impulsora\"; color:var(--red); }'\n",
    "    ofd.write(string_3a)\n",
    "    ofd.write('\\n')\n",
    "    string_3b = ''\n",
    "    for gene_mut in unique_muts_passengers: \n",
    "        gene, mut = gene_mut.split('_')\n",
    "        string_3b += f'.{gene}.{mut} .gen3.active:after, '\n",
    "    string_3b += '{ content:\"No impulsora\"; }'\n",
    "    ofd.write(string_3b)\n",
    "    \n",
    "    ofd.write('\\n\\n/* Gen 4 no*/\\n\\n')\n",
    "    string_4a = ''\n",
    "    for gene_mut in unique_muts_total: \n",
    "        if gene not in genes_with_treatments.keys():\n",
    "            gene, mut = gene_mut.split('_')\n",
    "            string_4a += f'.{gene}.{mut} .gen4.active:after, '\n",
    "    string_4a += '{ content:\"Cap\"; display:inline-block; background:url(\"../grafs/gral/supr.svg\") no-repeat left center; background-size:20px; padding-left:25px; line-height:30px; color:var(--red); color:rgba(255,255,255,.4); }'\n",
    "    ofd.write(string_4a)\n",
    "    ofd.write('\\n')\n",
    "    \n",
    "    ofd.write('\\n\\n/* Gen 4 si*/\\n\\n')\n",
    "    for gene_mut in genes_with_treatments: \n",
    "        gene, mut = gene_mut.split('_')\n",
    "        treatment = genes_with_treatments[gene_mut]\n",
    "        string_4b = f'.{gene}.{mut} .gen4.active:after' + '{ content:\"' + f'{treatment}' + '\"; }'\n",
    "        ofd.write(string_4b)\n",
    "    ofd.write('\\n')\n",
    "    "
   ]
  }
 ],
 "metadata": {
  "kernelspec": {
   "display_name": "data_analysis",
   "language": "python",
   "name": "data_analysis"
  },
  "language_info": {
   "codemirror_mode": {
    "name": "ipython",
    "version": 3
   },
   "file_extension": ".py",
   "mimetype": "text/x-python",
   "name": "python",
   "nbconvert_exporter": "python",
   "pygments_lexer": "ipython3",
   "version": "3.10.11"
  }
 },
 "nbformat": 4,
 "nbformat_minor": 5
}
